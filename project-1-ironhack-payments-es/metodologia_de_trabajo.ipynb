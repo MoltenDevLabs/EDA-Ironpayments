{
 "cells": [
  {
   "cell_type": "markdown",
   "metadata": {},
   "source": [
    "## Metodologia Machine Learning\n",
    "\n",
    "(Pasos -> 1 -> 2 -> 3 -> 2 -> 4)\n",
    "\n",
    "1. Informarse del negocio: Saber la repercusion de cada variable sobre el negocio y la variable objetivo. Rangos de cada variable, valores medios, etc (en general)\n",
    "2. Analisis exploratorio\n",
    "  * a) Var. objetivo\n",
    "    * tipo de dato (clasificacion)\n",
    "    * Estadistica descriptiva\n",
    "    * Funcion de distribucion\n",
    "  * b) Variables independientes\n",
    "    * tipo de dato (clasificacion)\n",
    "    * Estadistica descriptiva\n",
    "    * Funcion de distribucion\n",
    "    * Interpretar la variable en base a la funcion de distribucion de la objetivo\n",
    "3. Calidad del dato\n",
    "  * a) Presencia de outliers (corregit o imputar a perdido)\n",
    "    * corregir por:\n",
    "      * Meida\n",
    "      * Moda\n",
    "      * Mediana\n",
    "      * Regresion\n",
    "    * Imputar a NaN\n",
    "    * Eliminar el registro\n",
    "  * b) presencia de missings (valores perdidos)\n",
    "    * Corregir por:\n",
    "      * Meida\n",
    "      * Moda\n",
    "      * Mediana\n",
    "      * Regresion\n",
    "    * Eliminar el registro\n",
    "4. Selección de variables altamente correlacionadas\n",
    "  * Creación de variables (cojer variables correlacionadas e inventar una nueva variable)\n",
    "\n",
    "**(El EDA llega hasta aqui)**\n",
    "\n",
    "5. Binarización de categorias\n",
    "6. Division train test\n",
    "7. Transformación (escalado)\n",
    "  * MinMax\n",
    "  * Estandarización\n",
    "  * Normalización\n",
    "  * Yeo-Johnson\n",
    "8. Modelo\n",
    "9. Entrenamiento\n",
    "10. Evaluación del modelo\n",
    "11. Predicción con nuevos datos"
   ]
  }
 ],
 "metadata": {
  "kernelspec": {
   "display_name": "Python 3.12.4 64-bit",
   "language": "python",
   "name": "python3"
  },
  "language_info": {
   "name": "python",
   "version": "3.12.4"
  },
  "vscode": {
   "interpreter": {
    "hash": "b0fa6594d8f4cbf19f97940f81e996739fb7646882a419484c72d19e05852a7e"
   }
  }
 },
 "nbformat": 4,
 "nbformat_minor": 2
}
