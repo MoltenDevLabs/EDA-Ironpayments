{
 "cells": [
  {
   "cell_type": "code",
   "execution_count": null,
   "metadata": {},
   "outputs": [],
   "source": [
    "# Importamos las librerías necesarias para el análisis de los datos\n",
    "\n",
    "import pandas as pd\n",
    "import numpy as np\n",
    "import matplotlib.pyplot as plt\n",
    "import seaborn as sns\n",
    "from scipy import stats\n",
    "from statsmodels.stats.proportion import proportions_ztest\n",
    "\n",
    "# Cargamos los datos en DataFrames\n",
    "\n",
    "cash_request = pd.read_csv('./project_dataset/extract - cash request - data analyst.csv')\n",
    "fees = pd.read_csv('./project_dataset/extract - fees - data analyst - .csv')"
   ]
  },
  {
   "cell_type": "code",
   "execution_count": null,
   "metadata": {},
   "outputs": [],
   "source": [
    "df = cash_request.join(fees[['total_amount', 'type', 'category', 'charge_moment']]) # Juntamos los dos datasets en un solo dataframe\n",
    "df.head()"
   ]
  },
  {
   "cell_type": "markdown",
   "metadata": {},
   "source": [
    "### Tratamiento del dataframe"
   ]
  },
  {
   "cell_type": "code",
   "execution_count": null,
   "metadata": {},
   "outputs": [],
   "source": [
    "# Comprobamos que los datos se han cargado correctamente y visualizamos las primeras filas de cada DataFrame\n",
    "# para hacernos una idea de la estructura de los datos y de las columnas que contienen los DataFrames\n",
    "\n",
    "# Comprobamos si hay valores nulos en el DataFrame df\n",
    "df.isnull().sum()"
   ]
  },
  {
   "cell_type": "code",
   "execution_count": 56,
   "metadata": {},
   "outputs": [
    {
     "data": {
      "text/html": [
       "<div>\n",
       "<style scoped>\n",
       "    .dataframe tbody tr th:only-of-type {\n",
       "        vertical-align: middle;\n",
       "    }\n",
       "\n",
       "    .dataframe tbody tr th {\n",
       "        vertical-align: top;\n",
       "    }\n",
       "\n",
       "    .dataframe thead th {\n",
       "        text-align: right;\n",
       "    }\n",
       "</style>\n",
       "<table border=\"1\" class=\"dataframe\">\n",
       "  <thead>\n",
       "    <tr style=\"text-align: right;\">\n",
       "      <th></th>\n",
       "      <th>id</th>\n",
       "      <th>amount</th>\n",
       "      <th>status</th>\n",
       "      <th>created_at</th>\n",
       "      <th>updated_at</th>\n",
       "      <th>user_id</th>\n",
       "      <th>moderated_at</th>\n",
       "      <th>deleted_account_id</th>\n",
       "      <th>reimbursement_date</th>\n",
       "      <th>cash_request_received_date</th>\n",
       "      <th>...</th>\n",
       "      <th>transfer_type</th>\n",
       "      <th>send_at</th>\n",
       "      <th>recovery_status</th>\n",
       "      <th>reco_creation</th>\n",
       "      <th>reco_last_update</th>\n",
       "      <th>total_amount</th>\n",
       "      <th>type</th>\n",
       "      <th>category</th>\n",
       "      <th>charge_moment</th>\n",
       "      <th>mes_cohorte</th>\n",
       "    </tr>\n",
       "  </thead>\n",
       "  <tbody>\n",
       "    <tr>\n",
       "      <th>0</th>\n",
       "      <td>5</td>\n",
       "      <td>100.0</td>\n",
       "      <td>rejected</td>\n",
       "      <td>2019-12-10 19:05:21.596873+00:00</td>\n",
       "      <td>2019-12-11 16:47:42.40783+00</td>\n",
       "      <td>804.0</td>\n",
       "      <td>2019-12-11 16:47:42.405646+00</td>\n",
       "      <td>NaN</td>\n",
       "      <td>2020-01-09 19:05:21.596363+00</td>\n",
       "      <td>NaN</td>\n",
       "      <td>...</td>\n",
       "      <td>regular</td>\n",
       "      <td>NaN</td>\n",
       "      <td>NaN</td>\n",
       "      <td>NaN</td>\n",
       "      <td>NaN</td>\n",
       "      <td>5.0</td>\n",
       "      <td>instant_payment</td>\n",
       "      <td>money_back</td>\n",
       "      <td>after</td>\n",
       "      <td>2019-12</td>\n",
       "    </tr>\n",
       "    <tr>\n",
       "      <th>1</th>\n",
       "      <td>70</td>\n",
       "      <td>100.0</td>\n",
       "      <td>rejected</td>\n",
       "      <td>2019-12-10 19:50:12.347780+00:00</td>\n",
       "      <td>2019-12-11 14:24:22.900054+00</td>\n",
       "      <td>231.0</td>\n",
       "      <td>2019-12-11 14:24:22.897988+00</td>\n",
       "      <td>NaN</td>\n",
       "      <td>2020-01-09 19:50:12.34778+00</td>\n",
       "      <td>NaN</td>\n",
       "      <td>...</td>\n",
       "      <td>regular</td>\n",
       "      <td>NaN</td>\n",
       "      <td>NaN</td>\n",
       "      <td>NaN</td>\n",
       "      <td>NaN</td>\n",
       "      <td>5.0</td>\n",
       "      <td>incident</td>\n",
       "      <td>rejected_direct_debit</td>\n",
       "      <td>after</td>\n",
       "      <td>2019-12</td>\n",
       "    </tr>\n",
       "    <tr>\n",
       "      <th>2</th>\n",
       "      <td>7</td>\n",
       "      <td>100.0</td>\n",
       "      <td>rejected</td>\n",
       "      <td>2019-12-10 19:13:35.825460+00:00</td>\n",
       "      <td>2019-12-11 09:46:59.779773+00</td>\n",
       "      <td>191.0</td>\n",
       "      <td>2019-12-11 09:46:59.777728+00</td>\n",
       "      <td>NaN</td>\n",
       "      <td>2020-01-09 19:13:35.825041+00</td>\n",
       "      <td>NaN</td>\n",
       "      <td>...</td>\n",
       "      <td>regular</td>\n",
       "      <td>NaN</td>\n",
       "      <td>NaN</td>\n",
       "      <td>NaN</td>\n",
       "      <td>NaN</td>\n",
       "      <td>5.0</td>\n",
       "      <td>instant_payment</td>\n",
       "      <td>money_back</td>\n",
       "      <td>after</td>\n",
       "      <td>2019-12</td>\n",
       "    </tr>\n",
       "    <tr>\n",
       "      <th>3</th>\n",
       "      <td>10</td>\n",
       "      <td>99.0</td>\n",
       "      <td>rejected</td>\n",
       "      <td>2019-12-10 19:16:10.880172+00:00</td>\n",
       "      <td>2019-12-18 14:26:18.136163+00</td>\n",
       "      <td>761.0</td>\n",
       "      <td>2019-12-18 14:26:18.128407+00</td>\n",
       "      <td>NaN</td>\n",
       "      <td>2020-01-09 19:16:10.879606+00</td>\n",
       "      <td>NaN</td>\n",
       "      <td>...</td>\n",
       "      <td>regular</td>\n",
       "      <td>NaN</td>\n",
       "      <td>NaN</td>\n",
       "      <td>NaN</td>\n",
       "      <td>NaN</td>\n",
       "      <td>5.0</td>\n",
       "      <td>instant_payment</td>\n",
       "      <td>money_back</td>\n",
       "      <td>after</td>\n",
       "      <td>2019-12</td>\n",
       "    </tr>\n",
       "    <tr>\n",
       "      <th>4</th>\n",
       "      <td>1594</td>\n",
       "      <td>100.0</td>\n",
       "      <td>rejected</td>\n",
       "      <td>2020-05-06 09:59:38.877376+00:00</td>\n",
       "      <td>2020-05-07 09:21:55.34008+00</td>\n",
       "      <td>7686.0</td>\n",
       "      <td>2020-05-07 09:21:55.320193+00</td>\n",
       "      <td>NaN</td>\n",
       "      <td>2020-06-05 22:00:00+00</td>\n",
       "      <td>NaN</td>\n",
       "      <td>...</td>\n",
       "      <td>regular</td>\n",
       "      <td>NaN</td>\n",
       "      <td>NaN</td>\n",
       "      <td>NaN</td>\n",
       "      <td>NaN</td>\n",
       "      <td>5.0</td>\n",
       "      <td>instant_payment</td>\n",
       "      <td>money_back</td>\n",
       "      <td>after</td>\n",
       "      <td>2020-05</td>\n",
       "    </tr>\n",
       "  </tbody>\n",
       "</table>\n",
       "<p>5 rows × 21 columns</p>\n",
       "</div>"
      ],
      "text/plain": [
       "     id  amount    status                       created_at  \\\n",
       "0     5   100.0  rejected 2019-12-10 19:05:21.596873+00:00   \n",
       "1    70   100.0  rejected 2019-12-10 19:50:12.347780+00:00   \n",
       "2     7   100.0  rejected 2019-12-10 19:13:35.825460+00:00   \n",
       "3    10    99.0  rejected 2019-12-10 19:16:10.880172+00:00   \n",
       "4  1594   100.0  rejected 2020-05-06 09:59:38.877376+00:00   \n",
       "\n",
       "                      updated_at  user_id                   moderated_at  \\\n",
       "0   2019-12-11 16:47:42.40783+00    804.0  2019-12-11 16:47:42.405646+00   \n",
       "1  2019-12-11 14:24:22.900054+00    231.0  2019-12-11 14:24:22.897988+00   \n",
       "2  2019-12-11 09:46:59.779773+00    191.0  2019-12-11 09:46:59.777728+00   \n",
       "3  2019-12-18 14:26:18.136163+00    761.0  2019-12-18 14:26:18.128407+00   \n",
       "4   2020-05-07 09:21:55.34008+00   7686.0  2020-05-07 09:21:55.320193+00   \n",
       "\n",
       "   deleted_account_id             reimbursement_date  \\\n",
       "0                 NaN  2020-01-09 19:05:21.596363+00   \n",
       "1                 NaN   2020-01-09 19:50:12.34778+00   \n",
       "2                 NaN  2020-01-09 19:13:35.825041+00   \n",
       "3                 NaN  2020-01-09 19:16:10.879606+00   \n",
       "4                 NaN         2020-06-05 22:00:00+00   \n",
       "\n",
       "  cash_request_received_date  ... transfer_type send_at recovery_status  \\\n",
       "0                        NaN  ...       regular     NaN             NaN   \n",
       "1                        NaN  ...       regular     NaN             NaN   \n",
       "2                        NaN  ...       regular     NaN             NaN   \n",
       "3                        NaN  ...       regular     NaN             NaN   \n",
       "4                        NaN  ...       regular     NaN             NaN   \n",
       "\n",
       "  reco_creation reco_last_update total_amount             type  \\\n",
       "0           NaN              NaN          5.0  instant_payment   \n",
       "1           NaN              NaN          5.0         incident   \n",
       "2           NaN              NaN          5.0  instant_payment   \n",
       "3           NaN              NaN          5.0  instant_payment   \n",
       "4           NaN              NaN          5.0  instant_payment   \n",
       "\n",
       "                category charge_moment mes_cohorte  \n",
       "0             money_back         after     2019-12  \n",
       "1  rejected_direct_debit         after     2019-12  \n",
       "2             money_back         after     2019-12  \n",
       "3             money_back         after     2019-12  \n",
       "4             money_back         after     2020-05  \n",
       "\n",
       "[5 rows x 21 columns]"
      ]
     },
     "execution_count": 56,
     "metadata": {},
     "output_type": "execute_result"
    }
   ],
   "source": [
    "# Visualizamos las primeras filas del DataFrame cash_request\n",
    "df.head()"
   ]
  },
  {
   "cell_type": "code",
   "execution_count": null,
   "metadata": {},
   "outputs": [],
   "source": [
    "# Información sobre el DataFrame cash_request\n",
    "df.info()"
   ]
  },
  {
   "cell_type": "code",
   "execution_count": null,
   "metadata": {},
   "outputs": [],
   "source": [
    "# Estadísticas descriptivas del DataFrame cash_request, usamos transpose para que se visualicen mejor\n",
    "df.describe().transpose()"
   ]
  },
  {
   "cell_type": "code",
   "execution_count": null,
   "metadata": {},
   "outputs": [],
   "source": [
    "# Histograma de la variable amount\n",
    "sns.histplot(df['amount'], bins=30) \n",
    "\n",
    "plt.title('Distribución de amount') # Título del histograma\n",
    "plt.xlabel('amount')                # Etiqueta del eje x\n",
    "plt.ylabel('Frecuencia')            # Etiqueta del eje y\n",
    "plt.show()                          # Mostramos el histograma"
   ]
  },
  {
   "cell_type": "code",
   "execution_count": null,
   "metadata": {},
   "outputs": [],
   "source": [
    "# Scatterplot de la variable amount en función de user_id\n",
    "sns.scatterplot(x='user_id', y='amount', data=df)\n",
    "\n",
    "plt.title('amount por user_id') # Título del scatterplot\n",
    "plt.xlabel('user_id')           # Etiqueta del eje x\n",
    "plt.ylabel('amount')            # Etiqueta del eje y\n",
    "plt.show()                      # Mostramos el scatterplot"
   ]
  },
  {
   "cell_type": "markdown",
   "metadata": {},
   "source": [
    "### **0. Creación de las cohortes por mes:** Basado en el mes de creación de la primera transacción (created_at)"
   ]
  },
  {
   "cell_type": "markdown",
   "metadata": {},
   "source": [
    "1. Convertir la columna created_at a formato datetime\n",
    "2. Crear una nueva columna 'mes_cohorte' con el mes de la columna 'created_at'"
   ]
  },
  {
   "cell_type": "code",
   "execution_count": null,
   "metadata": {},
   "outputs": [],
   "source": [
    "# Convertir la columna created_at a formato datetime\n",
    "df['created_at'] = pd.to_datetime(df['created_at'])\n",
    "\n",
    "df.info() # Comprobamos que la columna created_at se ha convertido a formato datetime"
   ]
  },
  {
   "cell_type": "code",
   "execution_count": null,
   "metadata": {},
   "outputs": [],
   "source": [
    "# Crear una nueva columna 'mes_cohorte' con el mes de la columna 'created_at'\n",
    "df['mes_cohorte'] = df['created_at'].dt.to_period('M')  \n",
    "\n",
    "df.head() # Visualizamos las primeras filas del DataFrame df para comprobar que se ha creado la nueva columna"
   ]
  },
  {
   "cell_type": "markdown",
   "metadata": {},
   "source": [
    "### **1. Frecuencia de Uso del Servicio:** Comprender con qué frecuencia los usuarios de cada cohorte utilizan los servicios de adelanto de efectivo de IronHack Payments a lo largo del tiempo."
   ]
  },
  {
   "cell_type": "markdown",
   "metadata": {},
   "source": [
    "1. Agrupamos la columna mes_cohorte y aplicamos la función 'agg' para agregar diferentes metricas\n",
    "\n",
    "En nuestro caso añadimos la columna 'id' con la cantidad de estas en cada 'mes_cohorte'"
   ]
  },
  {
   "cell_type": "code",
   "execution_count": null,
   "metadata": {},
   "outputs": [],
   "source": [
    "# Agrupamos la columna mes_cohorte y aplicamos la función 'agg' para agregar diferentes metricas\n",
    "\n",
    "cohortes_count = df.groupby(by='mes_cohorte').agg({ \n",
    "  'id': 'count', # Contamos el número de transacciones por mes de cohorte\n",
    "  }).rename(columns={'id': 'n_transacciones'})\n",
    "cohortes_count"
   ]
  },
  {
   "cell_type": "code",
   "execution_count": 55,
   "metadata": {},
   "outputs": [
    {
     "data": {
      "text/plain": [
       "([0, 1, 2, 3, 4, 5, 6, 7, 8, 9, 10, 11, 12],\n",
       " [Text(0, 0, '2019-11'),\n",
       "  Text(1, 0, '2019-12'),\n",
       "  Text(2, 0, '2020-01'),\n",
       "  Text(3, 0, '2020-02'),\n",
       "  Text(4, 0, '2020-03'),\n",
       "  Text(5, 0, '2020-04'),\n",
       "  Text(6, 0, '2020-05'),\n",
       "  Text(7, 0, '2020-06'),\n",
       "  Text(8, 0, '2020-07'),\n",
       "  Text(9, 0, '2020-08'),\n",
       "  Text(10, 0, '2020-09'),\n",
       "  Text(11, 0, '2020-10'),\n",
       "  Text(12, 0, '2020-11')])"
      ]
     },
     "execution_count": 55,
     "metadata": {},
     "output_type": "execute_result"
    },
    {
     "data": {
      "image/png": "[encoded data removed]",
      "text/plain": [
       "<Figure size 1400x700 with 1 Axes>"
      ]
     },
     "metadata": {},
     "output_type": "display_data"
    }
   ],
   "source": [
    "plt.figure(figsize=(14, 7)) # Tamaño de la figura\n",
    "\n",
    "# Barplot de la variable id en función de mes_cohorte\n",
    "sns.barplot(x='mes_cohorte', y='n_transacciones', data=cohortes_count)   # \n",
    "plt.title('Frecuencia de Uso del Servicio por Cohorte')     # Título del barplot\n",
    "plt.xlabel('Cohorte (Mes)')                                 # Etiqueta del eje x\n",
    "plt.ylabel('Frecuencia de Uso')                             # Etiqueta del eje y\n",
    "plt.xticks(rotation=45)                                     # Los nombres del eje X, los ponemos a 45 grados"
   ]
  },
  {
   "cell_type": "markdown",
   "metadata": {},
   "source": [
    "Desde el inicio del servicio se observa un aumento de la frecuencia del uso progresiva, hasta la cohorte del 10-2020 que muestra una frecuencia mucho más elevada que el resto. Y luego la del 11-2020 vuelve a niveles muy bajos."
   ]
  },
  {
   "cell_type": "markdown",
   "metadata": {},
   "source": [
    "### **2. Tasa de Incidentes:** Determinar la tasa de incidentes, enfocándose específicamente en los incidentes de pago, para cada cohorte. Identificar si hay variaciones en las tasas de incidentes entre diferentes cohortes."
   ]
  },
  {
   "cell_type": "code",
   "execution_count": null,
   "metadata": {},
   "outputs": [],
   "source": [
    "# Devuelve un array de las categorias unicas de la columna 'status' enne\n",
    "\n",
    "df['status'].unique()"
   ]
  },
  {
   "cell_type": "markdown",
   "metadata": {},
   "source": [
    "Entendemos que los incidentes de pago son los valores 'rejected' de la columna 'status'\n",
    "1. Calcular el numero de 'rejected' en la columna 'status'\n",
    "2. El total de transacciones lo tenemos del punto anterior\n",
    "3. Calcular el porcentaje de 'rejected' sobre el total"
   ]
  },
  {
   "cell_type": "code",
   "execution_count": 57,
   "metadata": {},
   "outputs": [
    {
     "data": {
      "image/png": "[encoded data removed]",
      "text/plain": [
       "<Figure size 1400x700 with 1 Axes>"
      ]
     },
     "metadata": {},
     "output_type": "display_data"
    }
   ],
   "source": [
    "# Guardamos las filas del dataframe donde el 'status' == 'rejected' en un nuevo dataframe llamado 'incidentes'\n",
    "incidentes = df[df['status'] == 'rejected']\n",
    "\n",
    "# Agrupamos la columna mes_cohorte y aplicamos la función 'agg' para agregar diferentes metricas\n",
    "incidentes_count = incidentes.groupby(by='mes_cohorte').agg({ \n",
    "  'id': 'count'   # Contamos el número de incidentes\n",
    "}).rename(columns={'id': 'n_incidentes'})\n",
    "\n",
    "cohortes_incidentes = cohortes_count.join(incidentes_count).fillna(1) # Crear dataframe agrupando los dataframes 'cohortes_count' y 'incidentes_count'\n",
    "cohortes_incidentes['tasa_incidentes'] = (cohortes_incidentes['n_incidentes'] / cohortes_incidentes['n_transacciones'])*100 # Añadir columna con la tasa de incidentes en %\n",
    "\n",
    "porcentaje = (incidentes_count / cohortes_count) * 100\n",
    "\n",
    "plt.figure(figsize=(14, 7)) # Tamaño de la figura\n",
    "\n",
    "# Barplot de la variable id en función de mes_cohorte\n",
    "sns.barplot(x='mes_cohorte', y='tasa_incidentes', data=cohortes_incidentes)   # \n",
    "plt.title('Frecuencia de Incidentes de pago por Cohorte')   # Título del barplot\n",
    "plt.xlabel('Cohorte (Mes)')                                 # Etiqueta del eje x\n",
    "plt.ylabel('Frecuencia de Incidentes (%)')                  # Etiqueta del eje y\n",
    "plt.xticks(rotation=45)                                     # Los nombres del eje X, los ponemos a 45 grados\n",
    "\n",
    "plt.show()"
   ]
  },
  {
   "cell_type": "markdown",
   "metadata": {},
   "source": [
    "### 3. **Ingresos Generados por la Cohorte:** Calcular el total de ingresos generados por cada cohorte a lo largo de los meses para evaluar el impacto financiero del comportamiento de los usuarios.\n",
    "\n",
    "(Entendemos que los ingresos generados son los que muestra la columna total_amount del dataset fees)"
   ]
  },
  {
   "cell_type": "code",
   "execution_count": null,
   "metadata": {},
   "outputs": [],
   "source": [
    "# Agrupamos la columna mes_cohorte y aplicamos la función 'agg' para agregar diferentes metricas\n",
    "ingresos_sum = df.groupby(by='mes_cohorte').agg({ \n",
    "  'total_amount': 'sum'   # Contamos el número de transacciones por mes de cohorte\n",
    "}).rename(columns={'total_amount': 'ingresos'})\n",
    "\n",
    "df_ingresos = cohortes_incidentes.join(ingresos_sum).fillna(1)\n",
    "df_ingresos"
   ]
  },
  {
   "cell_type": "code",
   "execution_count": null,
   "metadata": {},
   "outputs": [],
   "source": [
    "plt.figure(figsize=(14, 7)) # Tamaño de la figura\n",
    "\n",
    "# Barplot de la variable ingresos en función de mes_cohorte\n",
    "sns.barplot(x='mes_cohorte', y='ingresos', data=df_ingresos)   # \n",
    "plt.title('Ingresos totales por Cohorte')                   # Título del barplot\n",
    "plt.xlabel('Cohorte (Mes)')                                 # Etiqueta del eje x\n",
    "plt.ylabel('Ingresos')                                      # Etiqueta del eje y\n",
    "plt.xticks(rotation=45)                                     # Los nombres del eje X, los ponemos a 45 grados\n",
    "\n",
    "plt.show()"
   ]
  },
  {
   "cell_type": "markdown",
   "metadata": {},
   "source": [
    "### 4. **Nueva Métrica Relevante:** Proponer y calcular una nueva métrica relevante que brinde perspectivas adicionales sobre el comportamiento de los usuarios o el rendimiento de los servicios de IronHack Payments."
   ]
  },
  {
   "cell_type": "code",
   "execution_count": null,
   "metadata": {},
   "outputs": [],
   "source": [
    "df_ingresos"
   ]
  },
  {
   "cell_type": "markdown",
   "metadata": {},
   "source": [
    "hacer matriz de correlacion: plantear algunas hipotesis\n",
    "hacer un par de test de las hipotesis, prueba de correlacion de pearson\n",
    "\n",
    "que variables influyen mas en los ingresos¿¿¿???\n",
    "\n",
    "sacar alguna conslusion\n",
    "\n",
    "\n",
    "Luego limpiar datos y volver a hacerlo"
   ]
  },
  {
   "cell_type": "code",
   "execution_count": null,
   "metadata": {},
   "outputs": [],
   "source": [
    "# Creamos una nueva columna para ver la relación entre n_transacciones y tasa de incidentes para saber si a mas transacciones mas incidentes.\n",
    "df_ingresos['tasa_incidentes_por_transaccion'] = df_ingresos['tasa_incidentes'] / df_ingresos['n_transacciones']\n",
    "df_ingresos"
   ]
  },
  {
   "cell_type": "code",
   "execution_count": null,
   "metadata": {},
   "outputs": [],
   "source": [
    "# Hipotesis: A mas numero de transacciones tenemos mas tasa incidentes por que el sistema tiene mas carga y falla mas.\n",
    "\n",
    "# Cálculo de la correlación de Pearson\n",
    "corr_coef, p_value = stats.pearsonr(df_ingresos['n_transacciones'], df_ingresos['tasa_incidentes'])\n",
    "\n",
    "print(f\"Coeficiente de correlación: {corr_coef}\")\n",
    "print(f\"Valor p: {p_value}\")\n",
    "\n",
    "# Interpretación del valor p\n",
    "alpha = 0.05\n",
    "if p_value < alpha:\n",
    "    print(\"Rechazamos la hipótesis nula. Hay evidencia suficiente para decir que la correlación entre n_transacciones y tasa_incidentes es significativa.\")\n",
    "else:\n",
    "    print(\"No podemos rechazar la hipótesis nula. No hay evidencia suficiente para decir que la correlación entre n_transacciones y tasa_incidentes es significativa.\")"
   ]
  },
  {
   "cell_type": "code",
   "execution_count": null,
   "metadata": {},
   "outputs": [],
   "source": [
    "correlation_matrix = df_ingresos.corr()\n",
    "correlation_matrix"
   ]
  },
  {
   "cell_type": "code",
   "execution_count": null,
   "metadata": {},
   "outputs": [],
   "source": [
    "# Hipotesis: Extiste una fuerte correlacion entre el numero de transacciones y los ingresos (0.983923) cosa que indica que a mayor numero de transacciones aumentan los ingresos.\n",
    "\n",
    "# Cálculo de la correlación de Pearson\n",
    "corr_coef, p_value = stats.pearsonr(df_ingresos['n_transacciones'], df_ingresos['ingresos'])\n",
    "\n",
    "print(f\"Coeficiente de correlación: {corr_coef}\")\n",
    "print(f\"Valor p: {p_value}\")\n",
    "\n",
    "# Interpretación del valor p\n",
    "alpha = 0.05\n",
    "if p_value < alpha:\n",
    "    print(\"Rechazamos la hipótesis nula. Hay evidencia suficiente para decir que la correlación entre n_transacciones y ingresos es significativa.\")\n",
    "else:\n",
    "    print(\"No podemos rechazar la hipótesis nula. No hay evidencia suficiente para decir que la correlación entre n_transacciones y ingresos es significativa.\")"
   ]
  },
  {
   "cell_type": "code",
   "execution_count": null,
   "metadata": {},
   "outputs": [],
   "source": [
    "df_ingresos"
   ]
  },
  {
   "cell_type": "code",
   "execution_count": null,
   "metadata": {},
   "outputs": [],
   "source": [
    "fig, ax1 = plt.subplots(figsize=(14, 7))\n",
    "\n",
    "# Graficar barras para ingresos, número de transacciones y número de incidentes\n",
    "df_ingresos[['ingresos', 'n_transacciones', 'n_incidentes']].plot(kind='bar', ax=ax1)\n",
    "\n",
    "# Configuración de título y etiquetas para el gráfico de barras\n",
    "ax1.set_title('Ingresos, Número de Transacciones y Número de Incidentes por Mes')\n",
    "ax1.set_xlabel('Mes Cohorte')\n",
    "ax1.set_ylabel('Cantidad')\n",
    "\n",
    "# Crear figura y ejes para el gráfico de línea\n",
    "fig, ax2 = plt.subplots(figsize=(14, 7))\n",
    "\n",
    "# Graficar la línea para tasa de incidentes\n",
    "df_ingresos['tasa_incidentes'].plot(kind='line', marker='o', linestyle='-', color='red', ax=ax2)\n",
    "\n",
    "# Configuración de título y etiquetas para el gráfico de línea\n",
    "ax2.set_title('Tasa de Incidentes por Mes')\n",
    "ax2.set_xlabel('Mes Cohorte')\n",
    "ax2.set_ylabel('Tasa de Incidentes')\n",
    "\n",
    "# Mostrar ambos gráficos\n",
    "plt.tight_layout()\n",
    "plt.show()"
   ]
  },
  {
   "cell_type": "code",
   "execution_count": null,
   "metadata": {},
   "outputs": [],
   "source": [
    "# Graficar la líneas para tasa de incidentes y numero de transacciones\n",
    "fig, ax1 = plt.subplots(figsize=(14, 7))\n",
    "\n",
    "\n",
    "df_ingresos['tasa_incidentes'].plot(kind='line', marker='o', linestyle='-', color='red', ax=ax1)\n",
    "df_ingresos['n_transacciones'].plot(kind='line', marker='o', linestyle='-', color='green', ax=ax1)\n",
    "\n",
    "ax1.set_title('Tasa de Incidentes vs numero de transacciones')\n",
    "ax1.set_xlabel('Mes Cohorte')\n",
    "ax1.set_ylabel('Tasa de Incidentes / Numero de transacciones')\n",
    "ax1.legend()\n",
    "\n",
    "plt.tight_layout()\n",
    "plt.show()\n"
   ]
  },
  {
   "cell_type": "markdown",
   "metadata": {},
   "source": [
    "### **Limpieza del dataframe**"
   ]
  },
  {
   "cell_type": "markdown",
   "metadata": {},
   "source": [
    "Durante el analisis de los datos se han encontrado un gran numero de valores missing, así como valores outlier, de manera que hay que proceder a la limpieza de los datos para poder llevar a cabo un analisis con datos de mayor calidad."
   ]
  },
  {
   "cell_type": "code",
   "execution_count": null,
   "metadata": {},
   "outputs": [],
   "source": [
    "# Detectar las filas en las que el total_amount es = a 10\n",
    "df['total_amount'].unique()\n",
    "filtered_df_by_total_amount = df[df['total_amount'] == 10]\n",
    "filtered_df_by_total_amount"
   ]
  },
  {
   "cell_type": "code",
   "execution_count": null,
   "metadata": {},
   "outputs": [],
   "source": [
    "# Limpiar los valores missing de las columnas que usamos ['total_amount', 'type', 'category', 'charge_moment']\n",
    "df.isnull().sum()"
   ]
  },
  {
   "cell_type": "code",
   "execution_count": null,
   "metadata": {},
   "outputs": [],
   "source": [
    "df.head()"
   ]
  },
  {
   "cell_type": "markdown",
   "metadata": {},
   "source": [
    "#### Limpieza de los valores nominales: 'type', 'category', 'charge_moment'"
   ]
  },
  {
   "cell_type": "code",
   "execution_count": null,
   "metadata": {},
   "outputs": [],
   "source": [
    "# df['charge_moment'].unique()\n",
    "# df['category'].unique()\n",
    "# df['type'].unique()"
   ]
  },
  {
   "cell_type": "code",
   "execution_count": null,
   "metadata": {},
   "outputs": [],
   "source": [
    "df['charge_moment'] = df['charge_moment'].fillna('not_specified')\n",
    "df['category'] = df['category'].fillna('not_specified')\n",
    "df['type'] = df['type'].fillna('not_specified')\n",
    "\n",
    "df.isnull().sum()"
   ]
  },
  {
   "cell_type": "code",
   "execution_count": null,
   "metadata": {},
   "outputs": [],
   "source": [
    "df_handle = df[df['charge_moment'] == 'not_specified']\n",
    "\n",
    "df_handle['status'].value_counts()"
   ]
  },
  {
   "cell_type": "code",
   "execution_count": null,
   "metadata": {},
   "outputs": [],
   "source": [
    "df_handle = df[df['category'] == 'not_specified']\n",
    "\n",
    "df_handle['status'].value_counts()"
   ]
  },
  {
   "cell_type": "code",
   "execution_count": null,
   "metadata": {},
   "outputs": [],
   "source": [
    "df_handle = df[df['type'] == 'not_specified']\n",
    "\n",
    "df_handle['status'].value_counts()"
   ]
  },
  {
   "cell_type": "code",
   "execution_count": null,
   "metadata": {},
   "outputs": [],
   "source": [
    "df.isnull().sum()"
   ]
  },
  {
   "cell_type": "code",
   "execution_count": null,
   "metadata": {},
   "outputs": [],
   "source": [
    "# Reemplazar 'not_specified' con 'unknown'\n",
    "df['charge_moment'] = df['charge_moment'].replace('not_specified', 'money_back')\n",
    "df['category'] = df['category'].replace('not_specified', 'money_back')\n",
    "df['type'] = df['type'].replace('not_specified', 'money_back')\n"
   ]
  },
  {
   "cell_type": "code",
   "execution_count": null,
   "metadata": {},
   "outputs": [],
   "source": [
    "# df['charge_moment'].unique()\n",
    "# df['category'].unique()\n",
    "# df['type'].unique()"
   ]
  },
  {
   "cell_type": "markdown",
   "metadata": {},
   "source": [
    "#### Limpieza de los valores numericos: 'total_amount'"
   ]
  },
  {
   "cell_type": "code",
   "execution_count": null,
   "metadata": {},
   "outputs": [],
   "source": [
    "df.isnull().sum()"
   ]
  },
  {
   "cell_type": "code",
   "execution_count": null,
   "metadata": {},
   "outputs": [],
   "source": [
    "df['total_amount'].mean()"
   ]
  },
  {
   "cell_type": "code",
   "execution_count": null,
   "metadata": {},
   "outputs": [],
   "source": [
    "df['total_amount'].median()"
   ]
  },
  {
   "cell_type": "code",
   "execution_count": null,
   "metadata": {},
   "outputs": [],
   "source": [
    "df['type'] = df['type'].fillna(5)\n",
    "df.isnull().sum()"
   ]
  },
  {
   "cell_type": "markdown",
   "metadata": {},
   "source": [
    "Detectar y ajustar los valores outlier\n",
    "\n",
    "- De las columnas que hemos usado buscar los outlier y ajustarlos o eliminarlos\n",
    "- Hacer boxplot o histograma, definir los outlier y PUM!!! matarlos!!! "
   ]
  },
  {
   "cell_type": "code",
   "execution_count": null,
   "metadata": {},
   "outputs": [],
   "source": [
    "# Configurar el tamaño de la figura\n",
    "plt.figure()\n",
    "\n",
    "# Crear el histograma utilizando un barplot (countplot)\n",
    "sns.boxplot(x='total_amount', data=df)\n",
    "\n",
    "# Configurar el título y las etiquetas de los ejes\n",
    "plt.title('total_amount')\n",
    "plt.xlabel('Categoría')\n",
    "plt.ylabel('Frecuencia')\n",
    "\n",
    "# Rotar los nombres del eje X\n",
    "plt.xticks(rotation=45)\n",
    "\n",
    "# Mostrar el histograma\n",
    "plt.show()"
   ]
  },
  {
   "cell_type": "code",
   "execution_count": null,
   "metadata": {},
   "outputs": [],
   "source": [
    "df = df[df['total_amount'] != 10] # Eliminamos el valor outlier de la columna 'total_amount'"
   ]
  },
  {
   "cell_type": "code",
   "execution_count": null,
   "metadata": {},
   "outputs": [],
   "source": [
    "plt.figure()\n",
    "\n",
    "# Crear el boxplot\n",
    "sns.boxplot(x='total_amount', data=df)\n",
    "\n",
    "# Configurar el título y las etiquetas de los ejes\n",
    "plt.title('total_amount')\n",
    "plt.xlabel('Categoría')\n",
    "plt.ylabel('Frecuencia')\n",
    "\n",
    "# Rotar los nombres del eje X\n",
    "plt.xticks(rotation=45)\n",
    "\n",
    "plt.show()"
   ]
  },
  {
   "cell_type": "code",
   "execution_count": null,
   "metadata": {},
   "outputs": [],
   "source": [
    "plt.figure()\n",
    "\n",
    "# Crear el boxplot\n",
    "sns.boxplot(x='type', data=df)\n",
    "\n",
    "# Configurar el título y las etiquetas de los ejes\n",
    "plt.title('type')\n",
    "plt.xlabel('Categoría')\n",
    "plt.ylabel('Frecuencia')\n",
    "\n",
    "# Rotar los nombres del eje X\n",
    "plt.xticks(rotation=45)\n",
    "\n",
    "plt.show()"
   ]
  },
  {
   "cell_type": "code",
   "execution_count": null,
   "metadata": {},
   "outputs": [],
   "source": [
    "plt.figure()\n",
    "\n",
    "# Crear el boxplot\n",
    "sns.boxplot(x='category', data=df)\n",
    "\n",
    "# Configurar el título y las etiquetas de los ejes\n",
    "plt.title('category')\n",
    "plt.xlabel('Categoría')\n",
    "plt.ylabel('Frecuencia')\n",
    "\n",
    "# Rotar los nombres del eje X\n",
    "plt.xticks(rotation=45)\n",
    "\n",
    "plt.show()"
   ]
  },
  {
   "cell_type": "code",
   "execution_count": null,
   "metadata": {},
   "outputs": [],
   "source": [
    "plt.figure()\n",
    "\n",
    "# Crear el boxplot\n",
    "sns.boxplot(x='charge_moment', data=df)\n",
    "\n",
    "# Configurar el título y las etiquetas de los ejes\n",
    "plt.title('charge_moment')\n",
    "plt.xlabel('Categoría')\n",
    "plt.ylabel('Frecuencia')\n",
    "\n",
    "# Rotar los nombres del eje X\n",
    "plt.xticks(rotation=45)\n",
    "\n",
    "plt.show()"
   ]
  },
  {
   "cell_type": "markdown",
   "metadata": {},
   "source": [
    "#### Por ultimo hacer la limpieza del mes 2019-11, ya que solo contiene una variable"
   ]
  },
  {
   "cell_type": "code",
   "execution_count": null,
   "metadata": {},
   "outputs": [],
   "source": [
    "df_ingresos"
   ]
  },
  {
   "cell_type": "code",
   "execution_count": null,
   "metadata": {},
   "outputs": [],
   "source": [
    "df_ingresos = df_ingresos[df_ingresos['n_transacciones'] != 1]\n",
    "df_ingresos"
   ]
  },
  {
   "cell_type": "markdown",
   "metadata": {},
   "source": [
    "# Gráficos despues de la limpieza"
   ]
  },
  {
   "cell_type": "code",
   "execution_count": null,
   "metadata": {},
   "outputs": [],
   "source": [
    "plt.figure(figsize=(8, 6))\n",
    "\n",
    "# Histograma de la variable amount\n",
    "sns.histplot(df['amount'], bins=30, kde=True) \n",
    "\n",
    "plt.title('Distribución de amount') # Título del histograma\n",
    "plt.xlabel('amount')                # Etiqueta del eje x\n",
    "plt.ylabel('Frecuencia')            # Etiqueta del eje y\n",
    "plt.show()                          # Mostramos el histograma"
   ]
  },
  {
   "cell_type": "code",
   "execution_count": null,
   "metadata": {},
   "outputs": [],
   "source": [
    "# Scatterplot de la variable amount en función de user_id\n",
    "sns.scatterplot(x='user_id', y='amount', data=df)\n",
    "\n",
    "plt.title('amount por user_id') # Título del scatterplot\n",
    "plt.xlabel('user_id')           # Etiqueta del eje x\n",
    "plt.ylabel('amount')            # Etiqueta del eje y\n",
    "plt.show()                      # Mostramos el scatterplot"
   ]
  },
  {
   "cell_type": "code",
   "execution_count": null,
   "metadata": {},
   "outputs": [],
   "source": [
    "plt.figure(figsize=(14, 7)) # Tamaño de la figura\n",
    "\n",
    "# Barplot de la variable id en función de mes_cohorte\n",
    "sns.barplot(x='mes_cohorte', y='n_transacciones', data=df_ingresos)   # \n",
    "plt.title('Frecuencia de Uso del Servicio por Cohorte')     # Título del barplot\n",
    "plt.xlabel('Cohorte (Mes)')                                 # Etiqueta del eje x\n",
    "plt.ylabel('Frecuencia de Uso')                             # Etiqueta del eje y\n",
    "plt.xticks(rotation=45)                                     # Los nombres del eje X, los ponemos a 45 grados"
   ]
  },
  {
   "cell_type": "code",
   "execution_count": null,
   "metadata": {},
   "outputs": [],
   "source": [
    "# Barplot de la variable id en función de mes_cohorte\n",
    "sns.barplot(x='mes_cohorte', y='tasa_incidentes', data=df_ingresos)   # \n",
    "plt.title('Frecuencia de Incidentes de pago por Cohorte')   # Título del barplot\n",
    "plt.xlabel('Cohorte (Mes)')                                 # Etiqueta del eje x\n",
    "plt.ylabel('Frecuencia de Incidentes (%)')                  # Etiqueta del eje y\n",
    "plt.xticks(rotation=45)                                     # Los nombres del eje X, los ponemos a 45 grados\n",
    "\n",
    "plt.show()"
   ]
  },
  {
   "cell_type": "code",
   "execution_count": null,
   "metadata": {},
   "outputs": [],
   "source": [
    "plt.figure(figsize=(14, 7)) # Tamaño de la figura\n",
    "\n",
    "# Barplot de la variable ingresos en función de mes_cohorte\n",
    "sns.barplot(x='mes_cohorte', y='ingresos', data=df_ingresos)   # \n",
    "plt.title('Ingresos totales por Cohorte')                   # Título del barplot\n",
    "plt.xlabel('Cohorte (Mes)')                                 # Etiqueta del eje x\n",
    "plt.ylabel('Ingresos')                                      # Etiqueta del eje y\n",
    "plt.xticks(rotation=45)                                     # Los nombres del eje X, los ponemos a 45 grados\n",
    "\n",
    "plt.show()"
   ]
  },
  {
   "cell_type": "code",
   "execution_count": null,
   "metadata": {},
   "outputs": [],
   "source": [
    "fig, ax1 = plt.subplots(figsize=(14, 7))\n",
    "\n",
    "# Graficar barras para ingresos, número de transacciones y número de incidentes\n",
    "df_ingresos[['ingresos', 'n_transacciones', 'n_incidentes']].plot(kind='bar', ax=ax1)\n",
    "\n",
    "# Configuración de título y etiquetas para el gráfico de barras\n",
    "ax1.set_title('Ingresos, Número de Transacciones y Número de Incidentes por Mes')\n",
    "ax1.set_xlabel('Mes Cohorte')\n",
    "ax1.set_ylabel('Cantidad')\n",
    "\n",
    "# Crear figura y ejes para el gráfico de línea\n",
    "fig, ax2 = plt.subplots(figsize=(14, 7))\n",
    "\n",
    "# Graficar la línea para tasa de incidentes\n",
    "df_ingresos['tasa_incidentes'].plot(kind='line', marker='o', linestyle='-', color='red', ax=ax2)\n",
    "\n",
    "# Configuración de título y etiquetas para el gráfico de línea\n",
    "ax2.set_title('Tasa de Incidentes por Mes')\n",
    "ax2.set_xlabel('Mes Cohorte')\n",
    "ax2.set_ylabel('Tasa de Incidentes')\n",
    "\n",
    "# Mostrar ambos gráficos\n",
    "plt.tight_layout()\n",
    "plt.show()"
   ]
  },
  {
   "cell_type": "code",
   "execution_count": null,
   "metadata": {},
   "outputs": [],
   "source": [
    "# Graficar la líneas para tasa de incidentes y numero de transacciones\n",
    "fig, ax1 = plt.subplots(figsize=(14, 7))\n",
    "\n",
    "\n",
    "df_ingresos['tasa_incidentes'].plot(kind='line', marker='o', linestyle='-', color='red', ax=ax1)\n",
    "df_ingresos['n_transacciones'].plot(kind='line', marker='o', linestyle='-', color='green', ax=ax1)\n",
    "\n",
    "ax1.set_title('Tasa de Incidentes vs numero de transacciones')\n",
    "ax1.set_xlabel('Mes Cohorte')\n",
    "ax1.set_ylabel('Tasa de Incidentes / Numero de transacciones')\n",
    "ax1.legend()\n",
    "\n",
    "plt.tight_layout()\n",
    "plt.show()\n"
   ]
  }
 ],
 "metadata": {
  "kernelspec": {
   "display_name": "Python 3.10.7 64-bit",
   "language": "python",
   "name": "python3"
  },
  "language_info": {
   "codemirror_mode": {
    "name": "ipython",
    "version": 3
   },
   "file_extension": ".py",
   "mimetype": "text/x-python",
   "name": "python",
   "nbconvert_exporter": "python",
   "pygments_lexer": "ipython3",
   "version": "3.10.7"
  },
  "vscode": {
   "interpreter": {
    "hash": "aee8b7b246df8f9039afb4144a1f6fd8d2ca17a180786b69acc140d282b71a49"
   }
  }
 },
 "nbformat": 4,
 "nbformat_minor": 2
}
